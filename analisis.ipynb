{
 "cells": [
  {
   "cell_type": "code",
   "execution_count": 1,
   "metadata": {},
   "outputs": [],
   "source": [
    "import numpy as np\n",
    "import pandas as pd\n",
    "import matplotlib.pyplot as plt\n",
    "%matplotlib inline"
   ]
  },
  {
   "cell_type": "markdown",
   "metadata": {},
   "source": [
    "# Leer los datos"
   ]
  },
  {
   "cell_type": "code",
   "execution_count": 2,
   "metadata": {},
   "outputs": [
    {
     "name": "stdout",
     "output_type": "stream",
     "text": [
      "Date;Time;Global_active_power;Global_reactive_power;Voltage;Global_intensity;Sub_metering_1;Sub_metering_2;Sub_metering_3\n",
      "16/12/2006;17:24:00;4.216;0.418;234.840;18.400;0.000;1.000;17.000\n",
      "16/12/2006;17:25:00;5.360;0.436;233.630;23.000;0.000;1.000;16.000\n",
      "16/12/2006;17:26:00;5.374;0.498;233.290;23.000;0.000;2.000;17.000\n",
      "16/12/2006;17:27:00;5.388;0.502;233.740;23.000;0.000;1.000;17.000\n"
     ]
    }
   ],
   "source": [
    "!head -n 5 household_power_consumption.txt"
   ]
  },
  {
   "cell_type": "markdown",
   "metadata": {},
   "source": [
    "Podemos ver que los datos están separados por punto y coma (;)\n",
    "\n",
    "(low_memory como False por un Warning sobre dificultades en entender el tipo de dato de cada columna, lo cual ocurre por la gran cantidad de registros)"
   ]
  },
  {
   "cell_type": "code",
   "execution_count": 3,
   "metadata": {},
   "outputs": [
    {
     "name": "stdout",
     "output_type": "stream",
     "text": [
      "<class 'pandas.core.frame.DataFrame'>\n",
      "RangeIndex: 2075259 entries, 0 to 2075258\n",
      "Data columns (total 9 columns):\n",
      " #   Column                 Non-Null Count    Dtype  \n",
      "---  ------                 --------------    -----  \n",
      " 0   Date                   2075259 non-null  object \n",
      " 1   Time                   2075259 non-null  object \n",
      " 2   Global_active_power    2075259 non-null  object \n",
      " 3   Global_reactive_power  2075259 non-null  object \n",
      " 4   Voltage                2075259 non-null  object \n",
      " 5   Global_intensity       2075259 non-null  object \n",
      " 6   Sub_metering_1         2075259 non-null  object \n",
      " 7   Sub_metering_2         2075259 non-null  object \n",
      " 8   Sub_metering_3         2049280 non-null  float64\n",
      "dtypes: float64(1), object(8)\n",
      "memory usage: 142.5+ MB\n"
     ]
    }
   ],
   "source": [
    "df = pd.read_csv('household_power_consumption.txt',\n",
    "                 sep=';', low_memory=False)\n",
    "df.info(null_counts=True)"
   ]
  },
  {
   "cell_type": "markdown",
   "metadata": {},
   "source": [
    "Toca descifrar por qué Pandas no está leyendo las columnas numéricas como Floats:"
   ]
  },
  {
   "cell_type": "code",
   "execution_count": 4,
   "metadata": {},
   "outputs": [
    {
     "name": "stdout",
     "output_type": "stream",
     "text": [
      "['0.076', '0.078', '0.080', '0.082', '0.084', '0.086', '0.088', '0.090', '0.092', '0.094']\n",
      "['9.708', '9.714', '9.718', '9.724', '9.726', '9.732', '9.922', '9.938', '9.994', '?']\n"
     ]
    }
   ],
   "source": [
    "print(sorted(df.Global_active_power.unique())[:10])\n",
    "print(sorted(df.Global_active_power.unique())[-10:])"
   ]
  },
  {
   "cell_type": "markdown",
   "metadata": {},
   "source": [
    "¡Ahí está! Es por esos valores \"?\"\n",
    "\n",
    "Vamos a leer otra vez los datos, teniendo ello en cuenta."
   ]
  },
  {
   "cell_type": "code",
   "execution_count": 5,
   "metadata": {},
   "outputs": [
    {
     "name": "stdout",
     "output_type": "stream",
     "text": [
      "<class 'pandas.core.frame.DataFrame'>\n",
      "RangeIndex: 2075259 entries, 0 to 2075258\n",
      "Data columns (total 9 columns):\n",
      " #   Column                 Non-Null Count    Dtype  \n",
      "---  ------                 --------------    -----  \n",
      " 0   Date                   2075259 non-null  object \n",
      " 1   Time                   2075259 non-null  object \n",
      " 2   Global_active_power    2049280 non-null  float64\n",
      " 3   Global_reactive_power  2049280 non-null  float64\n",
      " 4   Voltage                2049280 non-null  float64\n",
      " 5   Global_intensity       2049280 non-null  float64\n",
      " 6   Sub_metering_1         2049280 non-null  float64\n",
      " 7   Sub_metering_2         2049280 non-null  float64\n",
      " 8   Sub_metering_3         2049280 non-null  float64\n",
      "dtypes: float64(7), object(2)\n",
      "memory usage: 142.5+ MB\n"
     ]
    }
   ],
   "source": [
    "df = pd.read_csv('household_power_consumption.txt',\n",
    "                 sep=';', low_memory=False, na_values=[np.nan, '?'])\n",
    "df.info(null_counts=True)"
   ]
  },
  {
   "cell_type": "markdown",
   "metadata": {},
   "source": [
    "Y, ahora, a indexar los datos de manera temporal:"
   ]
  },
  {
   "cell_type": "code",
   "execution_count": 6,
   "metadata": {},
   "outputs": [
    {
     "name": "stdout",
     "output_type": "stream",
     "text": [
      "<class 'pandas.core.frame.DataFrame'>\n",
      "DatetimeIndex: 2075259 entries, 2006-12-16 17:24:00 to 2010-11-26 21:02:00\n",
      "Data columns (total 7 columns):\n",
      " #   Column                 Dtype  \n",
      "---  ------                 -----  \n",
      " 0   Global_active_power    float64\n",
      " 1   Global_reactive_power  float64\n",
      " 2   Voltage                float64\n",
      " 3   Global_intensity       float64\n",
      " 4   Sub_metering_1         float64\n",
      " 5   Sub_metering_2         float64\n",
      " 6   Sub_metering_3         float64\n",
      "dtypes: float64(7)\n",
      "memory usage: 126.7 MB\n"
     ]
    }
   ],
   "source": [
    "df.index = pd.to_datetime(df.Date + '-' + df.Time,\n",
    "                          format='%d/%m/%Y-%H:%M:%S')\n",
    "df = df.drop(columns=['Date', 'Time'])\n",
    "df.info()"
   ]
  },
  {
   "cell_type": "markdown",
   "metadata": {},
   "source": [
    "# Análisis exploratorio"
   ]
  },
  {
   "cell_type": "markdown",
   "metadata": {},
   "source": [
    "Primero veamos las distribuciones de las variables"
   ]
  },
  {
   "cell_type": "code",
   "execution_count": 7,
   "metadata": {},
   "outputs": [
    {
     "data": {
      "image/png": "[encoded data removed]",
      "text/plain": [
       "<Figure size 432x288 with 1 Axes>"
      ]
     },
     "metadata": {
      "needs_background": "light"
     },
     "output_type": "display_data"
    },
    {
     "data": {
      "image/png": "[encoded data removed]",
      "text/plain": [
       "<Figure size 432x288 with 1 Axes>"
      ]
     },
     "metadata": {
      "needs_background": "light"
     },
     "output_type": "display_data"
    },
    {
     "data": {
      "image/png": "[encoded data removed]",
      "text/plain": [
       "<Figure size 432x288 with 1 Axes>"
      ]
     },
     "metadata": {
      "needs_background": "light"
     },
     "output_type": "display_data"
    },
    {
     "data": {
      "image/png": "[encoded data removed]",
      "text/plain": [
       "<Figure size 432x288 with 1 Axes>"
      ]
     },
     "metadata": {
      "needs_background": "light"
     },
     "output_type": "display_data"
    },
    {
     "data": {
      "image/png": "[encoded data removed]",
      "text/plain": [
       "<Figure size 432x288 with 1 Axes>"
      ]
     },
     "metadata": {
      "needs_background": "light"
     },
     "output_type": "display_data"
    },
    {
     "data": {
      "image/png": "[encoded data removed]",
      "text/plain": [
       "<Figure size 432x288 with 1 Axes>"
      ]
     },
     "metadata": {
      "needs_background": "light"
     },
     "output_type": "display_data"
    },
    {
     "data": {
      "image/png": "[encoded data removed]",
      "text/plain": [
       "<Figure size 432x288 with 1 Axes>"
      ]
     },
     "metadata": {
      "needs_background": "light"
     },
     "output_type": "display_data"
    }
   ],
   "source": [
    "for col in df.columns:\n",
    "    df[col].plot.hist(bins=50, title=col)\n",
    "    plt.show()"
   ]
  },
  {
   "cell_type": "markdown",
   "metadata": {},
   "source": [
    "Leyendo, lo que más nos debe interesar es \"Global_active_power\", pues realmente representa el total de energía utilizada (por minuto) en el hogar donde se recogieron estos datos. \n",
    "\n",
    "Dicha columna es la suma de los 3 sub-meterings, que representan 1 cocina, 2 lavandería, y 3 calefacción o aire acondicionado (más un sobrante, que sería \"otros\").\n",
    "\n",
    "Por ende, vamos a iniciar analizando esa columna."
   ]
  },
  {
   "cell_type": "code",
   "execution_count": 8,
   "metadata": {},
   "outputs": [
    {
     "name": "stdout",
     "output_type": "stream",
     "text": [
      "Hay 25979 valores nulos, veamos dónde están.\n"
     ]
    }
   ],
   "source": [
    "print(f'Hay {df.Global_active_power.isnull().sum()} valores nulos,',\n",
    "      'veamos dónde están.')"
   ]
  },
  {
   "cell_type": "code",
   "execution_count": 9,
   "metadata": {},
   "outputs": [
    {
     "data": {
      "text/plain": [
       "2008    527040\n",
       "2009    525600\n",
       "2007    525600\n",
       "2010    475023\n",
       "2006     21996\n",
       "dtype: int64"
      ]
     },
     "execution_count": 9,
     "metadata": {},
     "output_type": "execute_result"
    }
   ],
   "source": [
    "df.index.year.value_counts()"
   ]
  },
  {
   "cell_type": "code",
   "execution_count": 10,
   "metadata": {},
   "outputs": [
    {
     "name": "stdout",
     "output_type": "stream",
     "text": [
      "2006: 4 nulos (0.02%)\n",
      "2007: 3931 nulos (0.75%)\n",
      "2008: 135 nulos (0.03%)\n",
      "2009: 4280 nulos (0.81%)\n",
      "2010: 17629 nulos (3.71%)\n"
     ]
    }
   ],
   "source": [
    "for y in df.index.year.unique():\n",
    "    n_nulos = df.loc[str(y), 'Global_active_power'].isnull().sum()\n",
    "    n_año = len(df.loc[str(y), 'Global_active_power'])\n",
    "    print(f'{y}: {n_nulos} nulos ({round(100*n_nulos/n_año, 2)}%)')"
   ]
  },
  {
   "cell_type": "markdown",
   "metadata": {},
   "source": [
    "Ahora dentro del 2010 (el año con más nulos):"
   ]
  },
  {
   "cell_type": "code",
   "execution_count": 11,
   "metadata": {},
   "outputs": [
    {
     "name": "stdout",
     "output_type": "stream",
     "text": [
      "1: 3131 nulos (7.01%)\n",
      "2: 2 nulos (0.0%)\n",
      "3: 2027 nulos (4.54%)\n",
      "4: 1 nulos (0.0%)\n",
      "5: 1 nulos (0.0%)\n",
      "6: 2 nulos (0.0%)\n",
      "7: 1 nulos (0.0%)\n",
      "8: 7226 nulos (16.19%)\n",
      "9: 5237 nulos (12.12%)\n",
      "10: 1 nulos (0.0%)\n",
      "11: 0 nulos (0.0%)\n"
     ]
    }
   ],
   "source": [
    "for m in sorted(df.index.month.unique()):\n",
    "    try:\n",
    "        n_nulos = df.loc[f'2010-{m}', 'Global_active_power'].isnull().sum()\n",
    "    except KeyError:\n",
    "        continue\n",
    "    n_mes = len(df.loc[f'2010-{m}', 'Global_active_power'])\n",
    "    print(f'{m}: {n_nulos} nulos ({round(100*n_nulos/n_mes, 2)}%)')"
   ]
  },
  {
   "cell_type": "markdown",
   "metadata": {},
   "source": [
    "Y ahora dentro de agosto (2010)"
   ]
  },
  {
   "cell_type": "code",
   "execution_count": 12,
   "metadata": {},
   "outputs": [
    {
     "name": "stdout",
     "output_type": "stream",
     "text": [
      "1: 0 nulos (0.0%)\n",
      "2: 0 nulos (0.0%)\n",
      "3: 0 nulos (0.0%)\n",
      "4: 0 nulos (0.0%)\n",
      "5: 0 nulos (0.0%)\n",
      "6: 0 nulos (0.0%)\n",
      "7: 0 nulos (0.0%)\n",
      "8: 0 nulos (0.0%)\n",
      "9: 0 nulos (0.0%)\n",
      "10: 0 nulos (0.0%)\n",
      "11: 0 nulos (0.0%)\n",
      "12: 0 nulos (0.0%)\n",
      "13: 0 nulos (0.0%)\n",
      "14: 0 nulos (0.0%)\n",
      "15: 0 nulos (0.0%)\n",
      "16: 0 nulos (0.0%)\n",
      "17: 178 nulos (12.36%)\n",
      "18: 1440 nulos (100.0%)\n",
      "19: 1440 nulos (100.0%)\n",
      "20: 1440 nulos (100.0%)\n",
      "21: 1440 nulos (100.0%)\n",
      "22: 1288 nulos (89.44%)\n",
      "23: 0 nulos (0.0%)\n",
      "24: 0 nulos (0.0%)\n",
      "25: 0 nulos (0.0%)\n",
      "26: 0 nulos (0.0%)\n",
      "27: 0 nulos (0.0%)\n",
      "28: 0 nulos (0.0%)\n",
      "29: 0 nulos (0.0%)\n",
      "30: 0 nulos (0.0%)\n",
      "31: 0 nulos (0.0%)\n"
     ]
    }
   ],
   "source": [
    "for d in sorted(df.index.day.unique()):\n",
    "    try:\n",
    "        n_nulos = df.loc[f'2010-8-{d}', 'Global_active_power'].isnull().sum()\n",
    "    except KeyError:\n",
    "        continue\n",
    "    n_dia = len(df.loc[f'2010-8-{d}', 'Global_active_power'])\n",
    "    print(f'{d}: {n_nulos} nulos ({round(100*n_nulos/n_dia, 2)}%)')"
   ]
  },
  {
   "cell_type": "markdown",
   "metadata": {},
   "source": [
    "Viendo esto, se me ocurre que una forma razonable de imputar los vacíos sería utilizando el dato de exactamente 8 días atrás (o el día anterior si eso no es posible)"
   ]
  },
  {
   "cell_type": "code",
   "execution_count": 13,
   "metadata": {},
   "outputs": [],
   "source": [
    "k=0\n",
    "one_day = 60 * 24\n",
    "one_week = one_day * 7\n",
    "\n",
    "for ii, dt in enumerate(df.index):\n",
    "    if not np.isnan(df.iloc[ii, 0]):\n",
    "        continue\n",
    "    #print(str(ii), dt)\n",
    "    #print(df.iloc[ii, 0])\n",
    "    if ii >= one_week:\n",
    "        #print(df.iloc[ii - one_week, 0])\n",
    "        df.iloc[ii, 0] = df.iloc[ii - one_week, 0]\n",
    "    else:\n",
    "        #print(df.iloc[ii - one_day, 0])\n",
    "        df.iloc[ii, 0] = df.iloc[ii - one_day, 0]\n",
    "    #print()"
   ]
  },
  {
   "cell_type": "code",
   "execution_count": 14,
   "metadata": {},
   "outputs": [
    {
     "data": {
      "text/plain": [
       "0"
      ]
     },
     "execution_count": 14,
     "metadata": {},
     "output_type": "execute_result"
    }
   ],
   "source": [
    "df.Global_active_power.isnull().sum()"
   ]
  },
  {
   "cell_type": "markdown",
   "metadata": {},
   "source": [
    "Ahora, ya sin datos vacíos, veamos cómo se comporta dicha variable"
   ]
  },
  {
   "cell_type": "code",
   "execution_count": 15,
   "metadata": {},
   "outputs": [
    {
     "data": {
      "text/plain": [
       "<matplotlib.axes._subplots.AxesSubplot at 0x7f0c58e8fcf8>"
      ]
     },
     "execution_count": 15,
     "metadata": {},
     "output_type": "execute_result"
    },
    {
     "data": {
      "image/png": "[encoded data removed]",
      "text/plain": [
       "<Figure size 432x288 with 1 Axes>"
      ]
     },
     "metadata": {
      "needs_background": "light"
     },
     "output_type": "display_data"
    }
   ],
   "source": [
    "df.Global_active_power.resample('Y').mean().plot()"
   ]
  },
  {
   "cell_type": "code",
   "execution_count": 16,
   "metadata": {},
   "outputs": [
    {
     "data": {
      "text/plain": [
       "<matplotlib.axes._subplots.AxesSubplot at 0x7f0c58f0d048>"
      ]
     },
     "execution_count": 16,
     "metadata": {},
     "output_type": "execute_result"
    },
    {
     "data": {
      "image/png": "[encoded data removed]",
      "text/plain": [
       "<Figure size 432x288 with 1 Axes>"
      ]
     },
     "metadata": {
      "needs_background": "light"
     },
     "output_type": "display_data"
    }
   ],
   "source": [
    "df.Global_active_power.resample('m').mean().plot()"
   ]
  },
  {
   "cell_type": "markdown",
   "metadata": {},
   "source": [
    "No alcanzo a hacer mucho más, pero un par de observaciones:\n",
    "- Por alguna razón el punto alto es en 2006, justo cuando se empezo a medir (¿lo que se mide se gestiona? ;) )\n",
    "- Existe temporalidad anual muy clara, con el gasto máximo en invierno, y el mínimo en verano (¿tal vez el gasto más fuerte es calefacción? bueno, eso sí lo alcanzo a confirmar \\[siguiente celda\\])."
   ]
  },
  {
   "cell_type": "code",
   "execution_count": 17,
   "metadata": {},
   "outputs": [
    {
     "data": {
      "text/plain": [
       "Sub_metering_1     2299135.0\n",
       "Sub_metering_2     2661031.0\n",
       "Sub_metering_3    13235167.0\n",
       "dtype: float64"
      ]
     },
     "execution_count": 17,
     "metadata": {},
     "output_type": "execute_result"
    }
   ],
   "source": [
    "df[[col for col in df.columns if col.startswith('Sub')]].sum(axis=0)"
   ]
  }
 ],
 "metadata": {
  "kernelspec": {
   "display_name": "Python 3",
   "language": "python",
   "name": "python3"
  },
  "language_info": {
   "codemirror_mode": {
    "name": "ipython",
    "version": 3
   },
   "file_extension": ".py",
   "mimetype": "text/x-python",
   "name": "python",
   "nbconvert_exporter": "python",
   "pygments_lexer": "ipython3",
   "version": "3.6.8"
  }
 },
 "nbformat": 4,
 "nbformat_minor": 4
}
